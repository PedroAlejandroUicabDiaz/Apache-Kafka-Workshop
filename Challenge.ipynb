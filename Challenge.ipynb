{
 "cells": [
  {
   "cell_type": "markdown",
   "id": "11fb03dd",
   "metadata": {},
   "source": [
    "# Challenge: Simulate a real-time chat\n",
    "\n",
    "The goal of this challenge is for you to simulate a real-time chat of an Twich streammig using the concepts learned during the Apache Kafka workshop. Essentially you will create a Kafka Producer to send 3 types of messages to the previously provided Kafka Consumer.\n",
    "\n",
    "**Create a new topic:**\n",
    "\n",
    "Create a new topic on a Command Prompt. The new topic must be named as **workshop**, and it will have a replication factor of 1, and only 1 partition.   \n",
    "\n",
    "This is the commmnad:\n",
    "~~~\n",
    "kafka-topics.bat --create --bootstrap-server localhost:9092 --replication-factor 1 --partitions 1 --topic {Topic_Name}\n",
    "~~~\n",
    "\n",
    "**Variables:**\n",
    "- *channel_name* (str) - string of the Twich's channel name.\n",
    "- *usernames* (list) - list of **at least 10** strings with random nametags.\n",
    "- *random_messages* (list) - list of **at least 10** strings with random messages.\n",
    "\n",
    "**Methods:**\n",
    "- *donation(list)* - creates a message of the form: *{username} has donated {0-50} USD!*. Consider that **{variable} will selected randomly.**\n",
    "- *suscribe(list,str)* - creates a message of the form: *{username} has suscribed to {channel_name}!*. Consider that  **{variable} will selected randomly.**\n",
    "- *rand_message (list,list)* - creates a message of the form: *{username}: {random_message}!*. Consider that  **{variable} will selected randomly.**\n",
    "\n",
    "**Kafka Producer:**\n",
    "\n",
    "The Kafka producer has to send the 3 types of messages in a random way, (in each iteration it must select randomly the type of message to send) in order to create the illusion of a real-time chat with variable messages. Consider to **wait some time** (between 1-3 seconds) when the producer is sending each one of the **at least 15** messages to the consumer. \n",
    "\n",
    "**Kafka Consumer:**\n",
    "\n",
    "Use the same *Consumer.ipynb* notebook to visualize the real-time chat, but make sure to change the topic of the consumer to match with your new topic **workshop**. "
   ]
  },
  {
   "cell_type": "code",
   "execution_count": null,
   "id": "e53812d6",
   "metadata": {},
   "outputs": [],
   "source": [
    "# Importing Modules\n",
    "from kafka import KafkaProducer\n",
    "from time import sleep\n",
    "import json\n",
    "import random"
   ]
  },
  {
   "cell_type": "code",
   "execution_count": null,
   "id": "9de90476",
   "metadata": {},
   "outputs": [],
   "source": [
    "# Variables\n",
    "channel_name = ''\n",
    "\n",
    "usernames = []\n",
    "\n",
    "random_messages = []"
   ]
  },
  {
   "cell_type": "code",
   "execution_count": null,
   "id": "cd6fe6ab",
   "metadata": {},
   "outputs": [],
   "source": [
    "# Kafka Producer\n",
    "\n",
    "def serializer():\n",
    "    \n",
    "    # Your code here\n",
    "    \n",
    "\n",
    "producer = KafkaProducer()"
   ]
  },
  {
   "cell_type": "code",
   "execution_count": null,
   "id": "9476bfb3",
   "metadata": {},
   "outputs": [],
   "source": [
    "# Methods\n",
    "\n",
    "def donation():\n",
    "    \n",
    "    # Your code here\n",
    "    \n",
    "def suscribe():\n",
    "    \n",
    "    # Your code here\n",
    "    \n",
    "def rand_message():\n",
    "    \n",
    "    # Your code here\n"
   ]
  },
  {
   "cell_type": "code",
   "execution_count": null,
   "id": "ff6d6b97",
   "metadata": {},
   "outputs": [],
   "source": [
    "# Send messages to Consumer.ipynb\n",
    "\n",
    "# Your code here"
   ]
  },
  {
   "cell_type": "code",
   "execution_count": null,
   "id": "22591581",
   "metadata": {},
   "outputs": [],
   "source": []
  }
 ],
 "metadata": {
  "kernelspec": {
   "display_name": "Python 3",
   "language": "python",
   "name": "python3"
  },
  "language_info": {
   "codemirror_mode": {
    "name": "ipython",
    "version": 3
   },
   "file_extension": ".py",
   "mimetype": "text/x-python",
   "name": "python",
   "nbconvert_exporter": "python",
   "pygments_lexer": "ipython3",
   "version": "3.8.8"
  }
 },
 "nbformat": 4,
 "nbformat_minor": 5
}
