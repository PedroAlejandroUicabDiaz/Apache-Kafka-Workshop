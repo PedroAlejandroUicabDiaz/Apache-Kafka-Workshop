{
 "cells": [
  {
   "cell_type": "markdown",
   "id": "c5301db9",
   "metadata": {},
   "source": [
    "# Python Simple Consumer Example"
   ]
  },
  {
   "cell_type": "code",
   "execution_count": null,
   "id": "5d52c562",
   "metadata": {},
   "outputs": [],
   "source": [
    "# Importing Modules\n",
    "from kafka import KafkaConsumer\n",
    "from json import loads\n",
    "import json"
   ]
  },
  {
   "cell_type": "markdown",
   "id": "89c29db4",
   "metadata": {},
   "source": [
    "Let's create a kafka consumer by using the kafka-python module.\n",
    "\n",
    "[KafkaConsumer()](https://kafka-python.readthedocs.io/en/master/apidoc/KafkaConsumer.html): Consume records from a Kafka cluster. The consumer will transparently handle the failure of servers in the Kafka cluster, and adapt as topic-partitions are created or migrate between brokers. The consumer is not thread safe and should not be shared across threads.\n",
    "\n",
    "*bootstrap_servers* – ‘host[:port]’ string (or list of ‘host[:port]’ strings) that the consumer should contact to bootstrap initial cluster metadata. This does not have to be the full node list. It just needs to have at least one broker that will respond to a Metadata API Request. Default port is 9092. If no servers are specified, will default to localhost:9092.\n",
    "\n",
    "*api_version* (tuple) – Specify which Kafka API version to use. If set to None, the client will attempt to infer the broker version by probing various APIs. Different versions enable different functionality.\n",
    "\n",
    "*consumer_timeout_ms* (int) – number of milliseconds to block during message iteration before raising StopIteration (i.e., ending the iterator)."
   ]
  },
  {
   "cell_type": "code",
   "execution_count": null,
   "id": "e10a96a4",
   "metadata": {},
   "outputs": [],
   "source": [
    "# Make a simple KafkaConsumer\n",
    "consumer = KafkaConsumer('topic',bootstrap_servers=['localhost:9092'], \n",
    "                        api_version=(0, 10)\n",
    "                        #,consumer_timeout_ms=1000\n",
    "                        )"
   ]
  },
  {
   "cell_type": "code",
   "execution_count": null,
   "id": "adc69139",
   "metadata": {},
   "outputs": [],
   "source": [
    "# Iterate over all messages recieved in consumer\n",
    "for message in consumer:\n",
    "    \n",
    "    # Print the messages as they are comming\n",
    "    print(json.loads(message.value))\n",
    "    #print(message)\n",
    "    "
   ]
  },
  {
   "cell_type": "code",
   "execution_count": null,
   "id": "8aa4d9e6",
   "metadata": {},
   "outputs": [],
   "source": [
    "# Close consumer\n",
    "consumer.close()"
   ]
  },
  {
   "cell_type": "code",
   "execution_count": null,
   "id": "8e59a846",
   "metadata": {},
   "outputs": [],
   "source": []
  }
 ],
 "metadata": {
  "kernelspec": {
   "display_name": "Python 3",
   "language": "python",
   "name": "python3"
  },
  "language_info": {
   "codemirror_mode": {
    "name": "ipython",
    "version": 3
   },
   "file_extension": ".py",
   "mimetype": "text/x-python",
   "name": "python",
   "nbconvert_exporter": "python",
   "pygments_lexer": "ipython3",
   "version": "3.8.8"
  }
 },
 "nbformat": 4,
 "nbformat_minor": 5
}
