{
 "cells": [
  {
   "cell_type": "markdown",
   "id": "8d03ae25",
   "metadata": {},
   "source": [
    "# Python Simple Producer Example"
   ]
  },
  {
   "cell_type": "code",
   "execution_count": 1,
   "id": "f83b784b",
   "metadata": {},
   "outputs": [],
   "source": [
    "# Importing Modules\n",
    "from kafka import KafkaProducer\n",
    "from time import sleep\n",
    "import json\n",
    "from datetime import datetime"
   ]
  },
  {
   "cell_type": "code",
   "execution_count": 2,
   "id": "ddd9f634",
   "metadata": {},
   "outputs": [],
   "source": [
    "# Messages will be serialized as JSON\n",
    "def serializer(message):\n",
    "    return json.dumps(message).encode('utf-8')"
   ]
  },
  {
   "cell_type": "markdown",
   "id": "28fa981e",
   "metadata": {},
   "source": [
    "Let's create a kafka producer by using the kafka-python module. \n",
    "\n",
    "[KafkaProducer()](https://kafka-python.readthedocs.io/en/master/apidoc/KafkaProducer.html): is a Kafka client that publishes records to the Kafka cluster. The producer is thread safe and sharing a single producer instance across threads will generally be faster than having multiple instances.\n",
    "\n",
    "*bootstrap_servers* – ‘host[:port]’ string (or list of ‘host[:port]’ strings) that the producer should contact to bootstrap initial cluster metadata. This does not have to be the full node list. It just needs to have at least one broker that will respond to a Metadata API Request. Default port is 9092. If no servers are specified, will default to localhost:9092.\n",
    "\n",
    "*value_serializer* (callable) – used to convert user-supplied message values to bytes. If not None, called as f(value), should return bytes.\n",
    "\n",
    "*api_version* (tuple) – Specify which Kafka API version to use. If set to None, the client will attempt to infer the broker version by probing various APIs. Example: (0, 10, 2)."
   ]
  },
  {
   "cell_type": "code",
   "execution_count": 3,
   "id": "8fbf8853",
   "metadata": {},
   "outputs": [],
   "source": [
    "# Make a simple KafkaProducer\n",
    "producer = KafkaProducer(bootstrap_servers=['localhost:9092'],\n",
    "                         value_serializer = serializer,\n",
    "                         api_version=(0,10,1))"
   ]
  },
  {
   "cell_type": "markdown",
   "id": "a3f20a3d",
   "metadata": {},
   "source": [
    "*send()* is asynchronous. When called it adds the record to a buffer of pending record sends and immediately returns. This allows the producer to batch together individual records for efficiency. It takes a tuple where the first element is the name of the **topic** and the second element its the message. "
   ]
  },
  {
   "cell_type": "code",
   "execution_count": 4,
   "id": "066b69f8",
   "metadata": {},
   "outputs": [
    {
     "data": {
      "text/plain": [
       "<kafka.producer.future.FutureRecordMetadata at 0x198204c3b80>"
      ]
     },
     "execution_count": 4,
     "metadata": {},
     "output_type": "execute_result"
    }
   ],
   "source": [
    "# Send a test message (topic's name is topic)\n",
    "producer.send('topic','Hello World!')"
   ]
  },
  {
   "cell_type": "code",
   "execution_count": 5,
   "id": "824e01a3",
   "metadata": {},
   "outputs": [
    {
     "name": "stdout",
     "output_type": "stream",
     "text": [
      "Current datetime: 09/20/2022 at 19:59:12\n"
     ]
    }
   ],
   "source": [
    "# Example message\n",
    "print('Current datetime: {}'.format(datetime.now().strftime(\"%m/%d/%Y at %H:%M:%S\")))"
   ]
  },
  {
   "cell_type": "code",
   "execution_count": 6,
   "id": "e1980a7d",
   "metadata": {},
   "outputs": [
    {
     "name": "stdout",
     "output_type": "stream",
     "text": [
      "Message sent  0\n",
      "Message sent  1\n",
      "Message sent  2\n",
      "Message sent  3\n",
      "Message sent  4\n",
      "Message sent  5\n",
      "Message sent  6\n",
      "Message sent  7\n",
      "Message sent  8\n",
      "Message sent  9\n"
     ]
    }
   ],
   "source": [
    "# Iterate 10 times\n",
    "for i in range(10):\n",
    "    \n",
    "    # Generate a new message \n",
    "    message= \"Current datetime: {}\".format(str(datetime.now().strftime(\"%m/%d/%Y at %H:%M:%S\")))\n",
    "    \n",
    "    # Send the message to consumer\n",
    "    producer.send('topic',message)\n",
    "    \n",
    "    # Wait 1 second\n",
    "    sleep(1)\n",
    "    \n",
    "    # Print confirmation of message sent\n",
    "    print(\"Message sent \",i)"
   ]
  },
  {
   "cell_type": "code",
   "execution_count": 7,
   "id": "636e6ee7",
   "metadata": {},
   "outputs": [],
   "source": [
    "# Close producer\n",
    "producer.close()"
   ]
  },
  {
   "cell_type": "code",
   "execution_count": null,
   "id": "c02dc01b",
   "metadata": {},
   "outputs": [],
   "source": []
  }
 ],
 "metadata": {
  "kernelspec": {
   "display_name": "Python 3",
   "language": "python",
   "name": "python3"
  },
  "language_info": {
   "codemirror_mode": {
    "name": "ipython",
    "version": 3
   },
   "file_extension": ".py",
   "mimetype": "text/x-python",
   "name": "python",
   "nbconvert_exporter": "python",
   "pygments_lexer": "ipython3",
   "version": "3.8.8"
  }
 },
 "nbformat": 4,
 "nbformat_minor": 5
}
